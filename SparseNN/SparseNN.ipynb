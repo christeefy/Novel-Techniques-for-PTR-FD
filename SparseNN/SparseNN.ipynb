{
 "cells": [
  {
   "cell_type": "code",
   "execution_count": 1,
   "metadata": {},
   "outputs": [],
   "source": [
    "import tensorflow as tf\n",
    "\n",
    "import numpy as np\n",
    "import pandas as pd\n",
    "\n",
    "from matplotlib import pyplot as plt\n",
    "\n",
    "import os\n",
    "import datetime"
   ]
  },
  {
   "cell_type": "code",
   "execution_count": 293,
   "metadata": {
    "code_folding": [
     0,
     36,
     72,
     78,
     101,
     134
    ]
   },
   "outputs": [],
   "source": [
    "def generate_ex1(N, seed=int(datetime.datetime.now().timestamp())):\n",
    "    '''\n",
    "    Generate data for Example 1.\n",
    "\n",
    "    Input:\n",
    "        n: Time-series length\n",
    "\n",
    "    Returns:\n",
    "        A Pandas DataFrame\n",
    "    '''\n",
    "    # Set random seed\n",
    "    np.random.seed(seed)\n",
    "    \n",
    "    # Define an empty dict\n",
    "    ex = {}\n",
    "    \n",
    "    # Convert n to int\n",
    "    N = int(N)\n",
    "\n",
    "    # Generate source variables\n",
    "    ex['X'] = np.random.normal(0, 1, size=(N,))\n",
    "    ex['v1'] = np.random.normal(0, 0.1, size=(N,))\n",
    "    ex['v2'] = np.random.normal(0, 0.1, size=(N,))\n",
    "\n",
    "    # Initialise dependent variables\n",
    "    ex['Y'] = np.zeros((N,))\n",
    "    ex['Y'][0] = 3.2\n",
    "    ex['Z'] = np.zeros((N,))\n",
    "\n",
    "    # Generate dependent variables\n",
    "    for k in range(N - 1):\n",
    "        ex['Y'][k + 1] = 0.8 * ex['X'][k] + 0.5 * ex['Y'][k] + ex['v1'][k]\n",
    "        ex['Z'][k + 1] = 0.6 * ex['Y'][k] + ex['v2'][k]\n",
    "        \n",
    "    return pd.DataFrame(ex)\n",
    "\n",
    "def generate_ex2(N, seed=int(datetime.datetime.now().timestamp())):\n",
    "    '''\n",
    "    Generate data for Example 2.\n",
    "\n",
    "    Input:\n",
    "        n: Time-series length\n",
    "\n",
    "    Returns:\n",
    "        A Pandas DataFrame\n",
    "    '''\n",
    "    # Set random seed\n",
    "    np.random.seed(seed)\n",
    "    \n",
    "    # Define an empty dict\n",
    "    ex = {}\n",
    "    \n",
    "    # Convert n to int\n",
    "    N = int(N)\n",
    "\n",
    "    # Generate source variables\n",
    "    ex['X'] = np.random.uniform(4, 5, size=(N,))\n",
    "    ex['v1'] = np.random.normal(0, 0.05, size=(N,))\n",
    "    ex['v2'] = np.random.normal(0, 0.05, size=(N,))\n",
    "\n",
    "    # Initialise dependent variables\n",
    "    ex['Y'] = np.zeros((N,))\n",
    "    ex['Y'][0] = 0.2\n",
    "    ex['Z'] = np.zeros((N,))\n",
    "\n",
    "    # Generate dependent variables\n",
    "    for k in range(N - 1):\n",
    "        ex['Y'][k + 1] = 1 - 2 * abs(0.5 - (0.8 * ex['X'][k] + 0.4 * (abs(ex['Y'][k])**0.5))) + ex['v1'][k]\n",
    "        ex['Z'][k + 1] = 5 * (ex['Y'][k] + 7.2)**2 + 10 * (abs(ex['X'][k])**0.5) + ex['v2'][k]\n",
    "        \n",
    "    return pd.DataFrame(ex)\n",
    "\n",
    "def generate_ex3():\n",
    "    '''\n",
    "    Create a DataFrame based on pre-simulated data.\n",
    "    '''\n",
    "    return pd.read_csv('.././Data/ex3.csv', delimiter=',')\n",
    "\n",
    "def create_dataset(df, var, max_lag):\n",
    "    '''\n",
    "    Create X and Y for a var, based on a df. \n",
    "    X values will be selected up to `max_lag`. \n",
    "    \n",
    "    Returns:\n",
    "        X: Input data of shape (m, p * max_lag)\n",
    "        Y: Output labels of shape (m,).\n",
    "    '''\n",
    "    assert var in df.columns\n",
    "    \n",
    "    # Reverse df rows. This makes going down \n",
    "    # the rows to be going back in time. \n",
    "    df = df[::-1]\n",
    "    \n",
    "    # Obtain output label\n",
    "    Y = np.array(df[var][:-(max_lag + 1)])\n",
    "    \n",
    "    # Create input data\n",
    "    X = np.vstack([df[(i + 1):(max_lag + i + 1)].values.T.reshape(-1) for i in range(len(df) - 1 - max_lag)])\n",
    "    \n",
    "    return X, Y\n",
    "\n",
    "def var_heatmap(W, max_lag=MAX_LAG):\n",
    "    '''\n",
    "    Using Matplotlib, create a heatmap plot \n",
    "    of the L2-norm of weights associated with each input\n",
    "    to the first hidden layer. \n",
    "    \n",
    "    The colourscale spans maps the colour white\n",
    "    to 0 and the colour black to the maximum\n",
    "    L2-norm of weights.\n",
    "    \n",
    "    Inputs:\n",
    "        W: Hidden layer weights of size \n",
    "           ((p * K) x n_H)\n",
    "    '''\n",
    "    # Retrive the weights of the first\n",
    "    # hidden layer, (p * K) x n_H\n",
    "    \n",
    "    # Reshape weights\n",
    "#     W1 = W1.reshape(-1, MAX_LAG * W1.shape[1])\n",
    "    \n",
    "    # Compute the L2-norm of W1 of size K x p\n",
    "    W_norms = np.linalg.norm(W, axis=1).reshape(MAX_LAG, -1, order='F')\n",
    "    \n",
    "    # Display heatmap\n",
    "    plt.imshow(W_norms, cmap='Greys')\n",
    "    \n",
    "    # Set white to 0\n",
    "    plt.clim(vmin=0)\n",
    "    \n",
    "    # Pause to allow for heatmaps to be displayed\n",
    "    # sequentially in a loop\n",
    "    plt.pause(0.001)\n",
    "    \n",
    "def _extract_weights(W1, max_lag=MAX_LAG):\n",
    "    '''\n",
    "    Extract weights from W1 of size ((p * K) x n_H) \n",
    "    by computing the L2-norm for each weight along \n",
    "    the n_H axis.\n",
    "    \n",
    "    Returns:\n",
    "        A np array of size p x K.\n",
    "    '''\n",
    "    # Compute the L2-normof W1 of size K x p\n",
    "    W1_norm = np.linalg.norm(W1, axis=1).reshape(-1, MAX_LAG, order='C')\n",
    "    \n",
    "    return W1_norm"
   ]
  },
  {
   "cell_type": "code",
   "execution_count": 111,
   "metadata": {
    "code_folding": [
     0,
     3,
     18,
     24
    ]
   },
   "outputs": [],
   "source": [
    "def _L1_regularizer(W1, lambda_):\n",
    "    return lambda_ * tf.reduce_sum(tf.abs(W1))\n",
    "\n",
    "def _hierarchical_L1_regularizer(W1, lambda_):\n",
    "    # Infer dimensions of W1\n",
    "    _p_times_lag, n_H = W1.shape.as_list()\n",
    "    p = _p_times_lag // MAX_LAG\n",
    "    \n",
    "    # Reshape W1\n",
    "    _W1 = tf.reshape(W1, shape=(-1, MAX_LAG, W1.shape.as_list()[1]))\n",
    "    \n",
    "    # Optimization to parallelize over W1[:, k:, :] for k in range(K)\n",
    "    _W1 = tf.concat([_W1 * np.concatenate([np.zeros(shape=(p, k, n_H)), \n",
    "                                           np.ones(shape=(p, MAX_LAG - k, n_H))], axis=1) \\\n",
    "                     for k in range(MAX_LAG)], axis=0)\n",
    "    \n",
    "    return lambda_ * tf.reduce_sum(tf.abs(_W1))\n",
    "\n",
    "def _L2_regularizer(W1, lambda_):\n",
    "    return lambda_ * tf.reduce_sum(tf.sqrt(tf.reduce_sum(W1**2, axis=-1)))\n",
    "    \n",
    "def _group_L2_regularizer(W1, lambda_):\n",
    "    return lambda_ * tf.reduce_sum(tf.sqrt(tf.reduce_sum(tf.reduce_sum(W1**2, axis=-1), axis=-1)))\n",
    "\n",
    "def _hierarchical_L2_regularizer(W1, lambda_):\n",
    "    # Infer dimensions of W1\n",
    "    _p_times_lag, n_H = W1.shape.as_list()\n",
    "    p = _p_times_lag // MAX_LAG\n",
    "    \n",
    "    # Reshape W1\n",
    "    _W1 = tf.reshape(W1, shape=(-1, MAX_LAG, W1.shape.as_list()[1]))\n",
    "    \n",
    "    # Optimization to parallelize over W1[:, k:, :] for k in range(K)\n",
    "    _W1 = tf.concat([_W1 * np.concatenate([np.zeros(shape=(p, k, n_H)), \n",
    "                                           np.ones(shape=(p, MAX_LAG - k, n_H))], axis=1) \\\n",
    "                     for k in range(MAX_LAG)], axis=0)\n",
    "    \n",
    "    return lambda_ * tf.reduce_sum(tf.sqrt(tf.reduce_sum(tf.reduce_sum(_W1**2, axis=-1), axis=-1)))"
   ]
  },
  {
   "cell_type": "code",
   "execution_count": 295,
   "metadata": {
    "code_folding": [
     0,
     78,
     118
    ]
   },
   "outputs": [],
   "source": [
    "def build_FCNN(input_shape, lambda_, reg_type):\n",
    "    n_H = [20, 20]\n",
    "    \n",
    "    reg_func = {\n",
    "        'L1': _L1_regularizer,\n",
    "        'L2': _L2_regularizer,\n",
    "        'g': _group_lasso_regularizer,\n",
    "        'h': _hierarchical_regularizer,\n",
    "        'hL1': _hierarchical_L1_regularizer\n",
    "    }\n",
    "    \n",
    "    _X = tf.placeholder(tf.float32, shape=(None, *input_shape), name='X')\n",
    "    _Y = tf.placeholder(tf.float32, shape=(None, 1), name='Y')\n",
    "    \n",
    "    with tf.variable_scope('LAYER1'):\n",
    "        W1 = tf.Variable(tf.random_normal((_X.get_shape().as_list()[1], n_H[0])), name='W1')\n",
    "        b1 = tf.Variable(tf.random_normal((1, n_H[0])), name='b1')\n",
    "        ACT1 = tf.nn.relu(tf.matmul(_X, W1) + b1, name='ACTV1')\n",
    "        \n",
    "#     with tf.variable_scope('LAYER1'):\n",
    "#         W2 = tf.Variable(tf.random_normal((n_H[0], n_H[1])), name='W2')\n",
    "#         b2 = tf.Variable(tf.random_normal((1, n_H[1])), name='b2')\n",
    "#         _X = tf.nn.relu(tf.matmul(_X, W2) + b2, name='ACTV2')\n",
    "        \n",
    "    with tf.variable_scope('OUTPUT'):\n",
    "        W_out = tf.Variable(tf.random_normal((n_H[0], _Y.get_shape().as_list()[1])), name='W_OUTPUT')\n",
    "        b_out = tf.Variable(tf.random_normal((1, 1)), name='b_OUTPUT')\n",
    "        Y_pred = tf.matmul(ACT1, W_out) + b_out\n",
    "        \n",
    "    cost = 0.\n",
    "    cost += tf.reduce_mean((_Y - Y_pred)**2)\n",
    "    \n",
    "    # Add regularizer\n",
    "    cost += reg_func[reg_type](W1, lambda_)\n",
    "    \n",
    "    opt = tf.train.AdamOptimizer().minimize(cost)\n",
    "    \n",
    "    return _X, _Y, W1, opt\n",
    "\n",
    "def build_FCNN_2_layers(input_shape, lambda_, reg_type):\n",
    "    \n",
    "    n_H = [20, 20]\n",
    "    \n",
    "    reg_func = {\n",
    "        'L1': _L1_regularizer,\n",
    "        'L2': _L2_regularizer,\n",
    "        'gL2': _group_L2_regularizer,\n",
    "        'hL2': _hierarchical_L2_regularizer,\n",
    "        'hL1': _hierarchical_L1_regularizer\n",
    "    }\n",
    "    \n",
    "    _X = tf.placeholder(tf.float32, shape=(None, *input_shape), name='X')\n",
    "    _Y = tf.placeholder(tf.float32, shape=(None, 1), name='Y')\n",
    "    \n",
    "    for layer in range(len(n_H)):\n",
    "        with tf.variable_scope('LAYER{}'.format(layer)):\n",
    "            W1 = tf.Variable(tf.random_normal((_X.get_shape().as_list()[1], n_H[0])), name='W1')\n",
    "            b1 = tf.Variable(tf.random_normal((1, n_H[0])), name='b1')\n",
    "            ACT1 = tf.nn.relu(tf.matmul(_X, W1) + b1, name='ACTV1')\n",
    "        \n",
    "    with tf.variable_scope('LAYER2'):\n",
    "        W2 = tf.Variable(tf.random_normal((n_H[0], n_H[1])), name='W2')\n",
    "        b2 = tf.Variable(tf.random_normal((1, n_H[1])), name='b2')\n",
    "        ACT2 = tf.nn.relu(tf.matmul(ACT1, W2) + b2, name='ACTV2')\n",
    "        \n",
    "    with tf.variable_scope('OUTPUT'):\n",
    "        W_out = tf.Variable(tf.random_normal((n_H[0], _Y.get_shape().as_list()[1])), name='W_OUTPUT')\n",
    "        b_out = tf.Variable(tf.random_normal((1, 1)), name='b_OUTPUT')\n",
    "        Y_pred = tf.matmul(ACT2, W_out) + b_out\n",
    "        \n",
    "    cost = 0.\n",
    "    cost += tf.reduce_mean((_Y - Y_pred)**2)\n",
    "    \n",
    "    # Add regularizer\n",
    "    cost += reg_func[reg_type](W1, lambda_)\n",
    "    \n",
    "    opt = tf.train.AdamOptimizer().minimize(cost)\n",
    "    \n",
    "    return _X, _Y, W1, opt\n",
    "\n",
    "def NN_causality(df, lambda_, reg_type, max_lag, epochs=2000, batch_size=100, use_two_hidden_layers=False):\n",
    "    # Infer number of variables\n",
    "    p = len(df.columns)\n",
    "    \n",
    "    # Create empty causality array\n",
    "    W = []\n",
    "    \n",
    "    for (i, var) in enumerate(df.columns):\n",
    "        print('Computing causality of {} (variable {} of {})...'.format(var, i + 1, p))\n",
    "        \n",
    "        # Obtain data and target for NN\n",
    "        X, Y = create_dataset(df, var, max_lag)\n",
    "        \n",
    "        # Reset default graph\n",
    "        tf.reset_default_graph()\n",
    "\n",
    "        with tf.Session() as sess:\n",
    "            # Build FCNN\n",
    "            build_FCNN_func = build_FCNN_2_layers if use_two_hidden_layers else build_FCNN\n",
    "            _X, _Y, W1, optimizer = build_FCNN_func(X[0].shape, lambda_, reg_type)\n",
    "\n",
    "            tf.global_variables_initializer().run()\n",
    "            \n",
    "            # Train FCNN\n",
    "            for epoch in range(epochs):\n",
    "                for batch in range(len(X) // batch_size):\n",
    "                    sess.run([optimizer], feed_dict={\n",
    "                        _X: X[(batch * batch_size):((batch + 1) * batch_size)], \n",
    "                        _Y: Y[(batch * batch_size):((batch + 1) * batch_size)][:, np.newaxis]\n",
    "                    })\n",
    "            \n",
    "            # Obtain weights and append to main array\n",
    "            W1_ = sess.run(W1)\n",
    "            W.append(_extract_weights(W1_, max_lag=MAX_LAG))\n",
    "            \n",
    "    # Create a np array from W\n",
    "    W = np.array(W)\n",
    "    \n",
    "    return W\n",
    "\n",
    "def causality_heatmap(W, df, mode, ord=2):\n",
    "    '''\n",
    "    Visualise calculated weights as \n",
    "    a heatmap.\n",
    "    \n",
    "    When mode is 'joint', it outputs a \n",
    "    (p_effect x p_cause) heatmap. When it \n",
    "    mode is 'ind', it produces a (p_cause x K) \n",
    "    heatmap for each individual p_effect.\n",
    "    \n",
    "    Inputs:\n",
    "        W:    A np array of size (p_effect x p_cause x K)\n",
    "        df:   A pd dataframe containing column labels\n",
    "        mode: Visualisation mode {'joint', 'ind'}\n",
    "        \n",
    "    Returns:\n",
    "        A plt heatmap.\n",
    "    '''\n",
    "    assert mode in ['joint', 'ind']\n",
    "    \n",
    "    # Infer dimensions\n",
    "    p, K = W[0].shape\n",
    "    \n",
    "    if mode == 'joint':\n",
    "        # Calculate norm on axis 2\n",
    "        _W_norm = np.linalg.norm(W, ord=ord, axis=2)\n",
    "        \n",
    "        # Visualise causality\n",
    "        plt.imshow(_W_norm, cmap='Greys')\n",
    "        plt.xlabel('Cause')\n",
    "        plt.xticks(range(p), df.columns)\n",
    "        plt.ylabel('Response')\n",
    "        plt.yticks(range(p), df.columns)\n",
    "        ax = plt.gca()\n",
    "        ax.xaxis.set_label_position('top')\n",
    "        ax.xaxis.tick_top()\n",
    "        \n",
    "        # Set white to 0\n",
    "        plt.clim(vmin=0)\n",
    "        \n",
    "    elif mode == 'ind':\n",
    "        for (var, row) in zip(df.columns, W):\n",
    "            print('Calculated causes to {}(t)'.format(var))\n",
    "            plt.imshow(row.T, cmap='Greys')\n",
    "            plt.xlabel('Cause')\n",
    "            plt.xticks(range(p), df.columns)\n",
    "            plt.ylabel('Time Lag')\n",
    "            plt.yticks(range(K), range(1, K + 1))\n",
    "            ax = plt.gca()\n",
    "            ax.xaxis.set_label_position('top')\n",
    "            ax.xaxis.tick_top()\n",
    "            \n",
    "            # Set white to 0\n",
    "            plt.clim(vmin=0, vmax=np.max(W))\n",
    "    \n",
    "            plt.pause(0.001)"
   ]
  },
  {
   "cell_type": "markdown",
   "metadata": {},
   "source": [
    "###  Example 1"
   ]
  },
  {
   "cell_type": "code",
   "execution_count": 296,
   "metadata": {},
   "outputs": [],
   "source": [
    "MAX_LAG = 20\n",
    "ex1 = generate_ex1(1000).iloc[:, :3]"
   ]
  },
  {
   "cell_type": "code",
   "execution_count": 297,
   "metadata": {},
   "outputs": [
    {
     "name": "stdout",
     "output_type": "stream",
     "text": [
      "Computing causality of X (variable 1 of 3)...\n",
      "Computing causality of Y (variable 2 of 3)...\n",
      "Computing causality of Z (variable 3 of 3)...\n"
     ]
    }
   ],
   "source": [
    "W_ex1 = NN_causality(ex1, lambda_=np.exp(-2), reg_type='h', max_lag=MAX_LAG, batch_size=100)"
   ]
  },
  {
   "cell_type": "code",
   "execution_count": 298,
   "metadata": {},
   "outputs": [
    {
     "data": {
      "image/png": "[encoded data removed]",
      "text/plain": [
       "<matplotlib.figure.Figure at 0x11cbd2c88>"
      ]
     },
     "metadata": {},
     "output_type": "display_data"
    }
   ],
   "source": [
    "causality_heatmap(W_ex1, ex1, 'joint', 2)"
   ]
  },
  {
   "cell_type": "code",
   "execution_count": 299,
   "metadata": {},
   "outputs": [
    {
     "name": "stdout",
     "output_type": "stream",
     "text": [
      "Calculated causes to X(t)\n"
     ]
    },
    {
     "data": {
      "image/png": "[encoded data removed]",
      "text/plain": [
       "<matplotlib.figure.Figure at 0x11ca3dac8>"
      ]
     },
     "metadata": {},
     "output_type": "display_data"
    },
    {
     "name": "stdout",
     "output_type": "stream",
     "text": [
      "Calculated causes to Y(t)\n"
     ]
    },
    {
     "data": {
      "image/png": "[encoded data removed]",
      "text/plain": [
       "<matplotlib.figure.Figure at 0x11c845908>"
      ]
     },
     "metadata": {},
     "output_type": "display_data"
    },
    {
     "name": "stdout",
     "output_type": "stream",
     "text": [
      "Calculated causes to Z(t)\n"
     ]
    },
    {
     "data": {
      "image/png": "[encoded data removed]",
      "text/plain": [
       "<matplotlib.figure.Figure at 0x11c8b74e0>"
      ]
     },
     "metadata": {},
     "output_type": "display_data"
    }
   ],
   "source": [
    "causality_heatmap(W_ex1, ex1, 'ind', 2)"
   ]
  },
  {
   "cell_type": "code",
   "execution_count": 301,
   "metadata": {},
   "outputs": [
    {
     "name": "stdout",
     "output_type": "stream",
     "text": [
      "Computing causality of X (variable 1 of 3)...\n",
      "Computing causality of Y (variable 2 of 3)...\n",
      "Computing causality of Z (variable 3 of 3)...\n"
     ]
    }
   ],
   "source": [
    "W_ex1_ = NN_causality(ex1, lambda_=np.exp(-2), reg_type='h', max_lag=MAX_LAG, batch_size=100)"
   ]
  },
  {
   "cell_type": "code",
   "execution_count": 302,
   "metadata": {},
   "outputs": [
    {
     "data": {
      "text/plain": [
       "0.010583438"
      ]
     },
     "execution_count": 302,
     "metadata": {},
     "output_type": "execute_result"
    }
   ],
   "source": [
    "np.sum(W_ex1_ - W_ex1)"
   ]
  },
  {
   "cell_type": "code",
   "execution_count": 303,
   "metadata": {},
   "outputs": [
    {
     "name": "stdout",
     "output_type": "stream",
     "text": [
      "Computing causality of X (variable 1 of 3)...\n",
      "Computing causality of Y (variable 2 of 3)...\n",
      "Computing causality of Z (variable 3 of 3)...\n"
     ]
    }
   ],
   "source": [
    "W_ex1 = NN_causality(ex1, lambda_=np.exp(-2), reg_type='h', max_lag=MAX_LAG, batch_size=100, use_two_hidden_layers=True)"
   ]
  },
  {
   "cell_type": "code",
   "execution_count": 304,
   "metadata": {},
   "outputs": [
    {
     "data": {
      "image/png": "[encoded data removed]",
      "text/plain": [
       "<matplotlib.figure.Figure at 0x1212e2898>"
      ]
     },
     "metadata": {},
     "output_type": "display_data"
    }
   ],
   "source": [
    "causality_heatmap(W_ex1, ex1, 'joint', 2)"
   ]
  },
  {
   "cell_type": "code",
   "execution_count": 305,
   "metadata": {},
   "outputs": [
    {
     "name": "stdout",
     "output_type": "stream",
     "text": [
      "Calculated causes to X(t)\n"
     ]
    },
    {
     "data": {
      "image/png": "[encoded data removed]",
      "text/plain": [
       "<matplotlib.figure.Figure at 0x1212e2c50>"
      ]
     },
     "metadata": {},
     "output_type": "display_data"
    },
    {
     "name": "stdout",
     "output_type": "stream",
     "text": [
      "Calculated causes to Y(t)\n"
     ]
    },
    {
     "data": {
      "image/png": "[encoded data removed]",
      "text/plain": [
       "<matplotlib.figure.Figure at 0x120d646d8>"
      ]
     },
     "metadata": {},
     "output_type": "display_data"
    },
    {
     "name": "stdout",
     "output_type": "stream",
     "text": [
      "Calculated causes to Z(t)\n"
     ]
    },
    {
     "data": {
      "image/png": "[encoded data removed]",
      "text/plain": [
       "<matplotlib.figure.Figure at 0x11f69ccc0>"
      ]
     },
     "metadata": {},
     "output_type": "display_data"
    }
   ],
   "source": [
    "causality_heatmap(W_ex1, ex1, 'ind', 2)"
   ]
  },
  {
   "cell_type": "markdown",
   "metadata": {},
   "source": [
    "###  Example 2"
   ]
  },
  {
   "cell_type": "code",
   "execution_count": 272,
   "metadata": {},
   "outputs": [],
   "source": [
    "MAX_LAG = 20\n",
    "ex2 = generate_ex2(1000).iloc[:, :3]"
   ]
  },
  {
   "cell_type": "code",
   "execution_count": 258,
   "metadata": {},
   "outputs": [
    {
     "name": "stdout",
     "output_type": "stream",
     "text": [
      "Computing causality of X (variable 1 of 3)...\n",
      "Computing causality of Y (variable 2 of 3)...\n",
      "Computing causality of Z (variable 3 of 3)...\n"
     ]
    }
   ],
   "source": [
    "W_ex2 = NN_causality(ex2, lambda_=np.exp(0), reg_type='h', max_lag=MAX_LAG, batch_size=100)"
   ]
  },
  {
   "cell_type": "code",
   "execution_count": 259,
   "metadata": {},
   "outputs": [
    {
     "data": {
      "image/png": "[encoded data removed]",
      "text/plain": [
       "<matplotlib.figure.Figure at 0x11f3cabe0>"
      ]
     },
     "metadata": {},
     "output_type": "display_data"
    }
   ],
   "source": [
    "causality_heatmap(W_ex2, ex2, 'joint', 2)"
   ]
  },
  {
   "cell_type": "code",
   "execution_count": 260,
   "metadata": {},
   "outputs": [
    {
     "name": "stdout",
     "output_type": "stream",
     "text": [
      "Calculated causes to X(t)\n"
     ]
    },
    {
     "data": {
      "image/png": "[encoded data removed]",
      "text/plain": [
       "<matplotlib.figure.Figure at 0x1206afd68>"
      ]
     },
     "metadata": {},
     "output_type": "display_data"
    },
    {
     "name": "stdout",
     "output_type": "stream",
     "text": [
      "Calculated causes to Y(t)\n"
     ]
    },
    {
     "data": {
      "image/png": "[encoded data removed]",
      "text/plain": [
       "<matplotlib.figure.Figure at 0x11e46cfd0>"
      ]
     },
     "metadata": {},
     "output_type": "display_data"
    },
    {
     "name": "stdout",
     "output_type": "stream",
     "text": [
      "Calculated causes to Z(t)\n"
     ]
    },
    {
     "data": {
      "image/png": "[encoded data removed]",
      "text/plain": [
       "<matplotlib.figure.Figure at 0x120640ef0>"
      ]
     },
     "metadata": {},
     "output_type": "display_data"
    }
   ],
   "source": [
    "causality_heatmap(W_ex2, ex2, 'ind', 2)"
   ]
  },
  {
   "cell_type": "code",
   "execution_count": 262,
   "metadata": {},
   "outputs": [],
   "source": [
    "MAX_LAG = 20\n",
    "ex2 = generate_ex2(1000, int(datetime.datetime.now().timestamp())).iloc[:, :3]"
   ]
  },
  {
   "cell_type": "code",
   "execution_count": 263,
   "metadata": {},
   "outputs": [
    {
     "name": "stdout",
     "output_type": "stream",
     "text": [
      "Computing causality of X (variable 1 of 3)...\n",
      "Computing causality of Y (variable 2 of 3)...\n",
      "Computing causality of Z (variable 3 of 3)...\n"
     ]
    }
   ],
   "source": [
    "W_ex2 = NN_causality(ex2, lambda_=np.exp(-2), reg_type='h', max_lag=MAX_LAG, batch_size=100)"
   ]
  },
  {
   "cell_type": "code",
   "execution_count": 264,
   "metadata": {},
   "outputs": [
    {
     "data": {
      "image/png": "[encoded data removed]",
      "text/plain": [
       "<matplotlib.figure.Figure at 0x120a4e240>"
      ]
     },
     "metadata": {},
     "output_type": "display_data"
    }
   ],
   "source": [
    "causality_heatmap(W_ex2, ex2, 'joint', 2)"
   ]
  },
  {
   "cell_type": "code",
   "execution_count": 265,
   "metadata": {},
   "outputs": [
    {
     "name": "stdout",
     "output_type": "stream",
     "text": [
      "Calculated causes to X(t)\n"
     ]
    },
    {
     "data": {
      "image/png": "[encoded data removed]",
      "text/plain": [
       "<matplotlib.figure.Figure at 0x11cc0bf60>"
      ]
     },
     "metadata": {},
     "output_type": "display_data"
    },
    {
     "name": "stdout",
     "output_type": "stream",
     "text": [
      "Calculated causes to Y(t)\n"
     ]
    },
    {
     "data": {
      "image/png": "[encoded data removed]",
      "text/plain": [
       "<matplotlib.figure.Figure at 0x11e6bfda0>"
      ]
     },
     "metadata": {},
     "output_type": "display_data"
    },
    {
     "name": "stdout",
     "output_type": "stream",
     "text": [
      "Calculated causes to Z(t)\n"
     ]
    },
    {
     "data": {
      "image/png": "[encoded data removed]",
      "text/plain": [
       "<matplotlib.figure.Figure at 0x11e036240>"
      ]
     },
     "metadata": {},
     "output_type": "display_data"
    }
   ],
   "source": [
    "causality_heatmap(W_ex2, ex2, 'ind', 2)"
   ]
  },
  {
   "cell_type": "code",
   "execution_count": 266,
   "metadata": {},
   "outputs": [],
   "source": [
    "MAX_LAG = 20\n",
    "ex2 = generate_ex2(1000).iloc[:, :3]"
   ]
  },
  {
   "cell_type": "code",
   "execution_count": 284,
   "metadata": {},
   "outputs": [
    {
     "name": "stdout",
     "output_type": "stream",
     "text": [
      "Computing causality of X (variable 1 of 3)...\n",
      "Computing causality of Y (variable 2 of 3)...\n",
      "Computing causality of Z (variable 3 of 3)...\n"
     ]
    },
    {
     "data": {
      "image/png": "[encoded data removed]",
      "text/plain": [
       "<matplotlib.figure.Figure at 0x11a301940>"
      ]
     },
     "metadata": {},
     "output_type": "display_data"
    },
    {
     "name": "stdout",
     "output_type": "stream",
     "text": [
      "Computing causality of X (variable 1 of 3)...\n",
      "Computing causality of Y (variable 2 of 3)...\n",
      "Computing causality of Z (variable 3 of 3)...\n"
     ]
    },
    {
     "data": {
      "image/png": "[encoded data removed]",
      "text/plain": [
       "<matplotlib.figure.Figure at 0x11cfd8550>"
      ]
     },
     "metadata": {},
     "output_type": "display_data"
    },
    {
     "name": "stdout",
     "output_type": "stream",
     "text": [
      "Computing causality of X (variable 1 of 3)...\n",
      "Computing causality of Y (variable 2 of 3)...\n",
      "Computing causality of Z (variable 3 of 3)...\n"
     ]
    },
    {
     "data": {
      "image/png": "[encoded data removed]",
      "text/plain": [
       "<matplotlib.figure.Figure at 0x120580f60>"
      ]
     },
     "metadata": {},
     "output_type": "display_data"
    },
    {
     "name": "stdout",
     "output_type": "stream",
     "text": [
      "Computing causality of X (variable 1 of 3)...\n",
      "Computing causality of Y (variable 2 of 3)...\n",
      "Computing causality of Z (variable 3 of 3)...\n"
     ]
    },
    {
     "data": {
      "image/png": "[encoded data removed]",
      "text/plain": [
       "<matplotlib.figure.Figure at 0x11d341f60>"
      ]
     },
     "metadata": {},
     "output_type": "display_data"
    },
    {
     "name": "stdout",
     "output_type": "stream",
     "text": [
      "Computing causality of X (variable 1 of 3)...\n",
      "Computing causality of Y (variable 2 of 3)...\n",
      "Computing causality of Z (variable 3 of 3)...\n"
     ]
    },
    {
     "data": {
      "image/png": "[encoded data removed]",
      "text/plain": [
       "<matplotlib.figure.Figure at 0x120e833c8>"
      ]
     },
     "metadata": {},
     "output_type": "display_data"
    }
   ],
   "source": [
    "# 2 layer\n",
    "lambdas_ = range(-6, 4, 2)\n",
    "for lambda_ in lambdas_:\n",
    "    W_ex2 = NN_causality(ex2, lambda_=np.exp(0), reg_type='h', max_lag=MAX_LAG, batch_size=100)\n",
    "    causality_heatmap(W_ex2, ex2, 'joint')\n",
    "    plt.pause(0.001)"
   ]
  },
  {
   "cell_type": "code",
   "execution_count": 286,
   "metadata": {},
   "outputs": [],
   "source": [
    "MAX_LAG = 20\n",
    "ex2 = generate_ex2(1000).iloc[:, :3]"
   ]
  },
  {
   "cell_type": "code",
   "execution_count": 287,
   "metadata": {},
   "outputs": [
    {
     "name": "stdout",
     "output_type": "stream",
     "text": [
      "Computing causality of X (variable 1 of 3)...\n",
      "Computing causality of Y (variable 2 of 3)...\n",
      "Computing causality of Z (variable 3 of 3)...\n"
     ]
    },
    {
     "data": {
      "image/png": "[encoded data removed]",
      "text/plain": [
       "<matplotlib.figure.Figure at 0x1209a1a58>"
      ]
     },
     "metadata": {},
     "output_type": "display_data"
    },
    {
     "name": "stdout",
     "output_type": "stream",
     "text": [
      "Computing causality of X (variable 1 of 3)...\n",
      "Computing causality of Y (variable 2 of 3)...\n",
      "Computing causality of Z (variable 3 of 3)...\n"
     ]
    },
    {
     "data": {
      "image/png": "[encoded data removed]",
      "text/plain": [
       "<matplotlib.figure.Figure at 0x11c651978>"
      ]
     },
     "metadata": {},
     "output_type": "display_data"
    },
    {
     "name": "stdout",
     "output_type": "stream",
     "text": [
      "Computing causality of X (variable 1 of 3)...\n",
      "Computing causality of Y (variable 2 of 3)...\n",
      "Computing causality of Z (variable 3 of 3)...\n"
     ]
    },
    {
     "data": {
      "image/png": "[encoded data removed]",
      "text/plain": [
       "<matplotlib.figure.Figure at 0x121be6b00>"
      ]
     },
     "metadata": {},
     "output_type": "display_data"
    },
    {
     "name": "stdout",
     "output_type": "stream",
     "text": [
      "Computing causality of X (variable 1 of 3)...\n",
      "Computing causality of Y (variable 2 of 3)...\n",
      "Computing causality of Z (variable 3 of 3)...\n"
     ]
    },
    {
     "data": {
      "image/png": "[encoded data removed]",
      "text/plain": [
       "<matplotlib.figure.Figure at 0x11cfcb5f8>"
      ]
     },
     "metadata": {},
     "output_type": "display_data"
    },
    {
     "name": "stdout",
     "output_type": "stream",
     "text": [
      "Computing causality of X (variable 1 of 3)...\n",
      "Computing causality of Y (variable 2 of 3)...\n",
      "Computing causality of Z (variable 3 of 3)...\n"
     ]
    },
    {
     "data": {
      "image/png": "[encoded data removed]",
      "text/plain": [
       "<matplotlib.figure.Figure at 0x121241b00>"
      ]
     },
     "metadata": {},
     "output_type": "display_data"
    }
   ],
   "source": [
    "# 1 layer\n",
    "lambdas_ = range(-6, 4, 2)\n",
    "for lambda_ in lambdas_:\n",
    "    W_ex2 = NN_causality(ex2, lambda_=np.exp(0), reg_type='h', max_lag=MAX_LAG, batch_size=100)\n",
    "    causality_heatmap(W_ex2, ex2, 'joint')\n",
    "    plt.pause(0.001)"
   ]
  },
  {
   "cell_type": "code",
   "execution_count": 290,
   "metadata": {},
   "outputs": [
    {
     "name": "stdout",
     "output_type": "stream",
     "text": [
      "Computing causality of X (variable 1 of 3)...\n",
      "Computing causality of Y (variable 2 of 3)...\n",
      "Computing causality of Z (variable 3 of 3)...\n"
     ]
    },
    {
     "data": {
      "image/png": "[encoded data removed]",
      "text/plain": [
       "<matplotlib.figure.Figure at 0x12047f8d0>"
      ]
     },
     "metadata": {},
     "output_type": "display_data"
    },
    {
     "name": "stdout",
     "output_type": "stream",
     "text": [
      "Computing causality of X (variable 1 of 3)...\n",
      "Computing causality of Y (variable 2 of 3)...\n",
      "Computing causality of Z (variable 3 of 3)...\n"
     ]
    },
    {
     "data": {
      "image/png": "[encoded data removed]",
      "text/plain": [
       "<matplotlib.figure.Figure at 0x1211368d0>"
      ]
     },
     "metadata": {},
     "output_type": "display_data"
    },
    {
     "name": "stdout",
     "output_type": "stream",
     "text": [
      "Computing causality of X (variable 1 of 3)...\n",
      "Computing causality of Y (variable 2 of 3)...\n",
      "Computing causality of Z (variable 3 of 3)...\n"
     ]
    },
    {
     "data": {
      "image/png": "[encoded data removed]",
      "text/plain": [
       "<matplotlib.figure.Figure at 0x11e625dd8>"
      ]
     },
     "metadata": {},
     "output_type": "display_data"
    },
    {
     "name": "stdout",
     "output_type": "stream",
     "text": [
      "Computing causality of X (variable 1 of 3)...\n",
      "Computing causality of Y (variable 2 of 3)...\n",
      "Computing causality of Z (variable 3 of 3)...\n"
     ]
    },
    {
     "data": {
      "image/png": "[encoded data removed]",
      "text/plain": [
       "<matplotlib.figure.Figure at 0x12070ba20>"
      ]
     },
     "metadata": {},
     "output_type": "display_data"
    },
    {
     "name": "stdout",
     "output_type": "stream",
     "text": [
      "Computing causality of X (variable 1 of 3)...\n",
      "Computing causality of Y (variable 2 of 3)...\n",
      "Computing causality of Z (variable 3 of 3)...\n"
     ]
    },
    {
     "data": {
      "image/png": "[encoded data removed]",
      "text/plain": [
       "<matplotlib.figure.Figure at 0x1212674a8>"
      ]
     },
     "metadata": {},
     "output_type": "display_data"
    }
   ],
   "source": [
    "# 2 layer hL1\n",
    "lambdas_ = range(-6, 4, 2)\n",
    "for lambda_ in lambdas_:\n",
    "    W_ex2 = NN_causality(ex2, lambda_=np.exp(0), reg_type='hL1', max_lag=MAX_LAG, batch_size=100)\n",
    "    causality_heatmap(W_ex2, ex2, 'joint')\n",
    "    plt.pause(0.001)"
   ]
  },
  {
   "cell_type": "code",
   "execution_count": 292,
   "metadata": {},
   "outputs": [
    {
     "name": "stdout",
     "output_type": "stream",
     "text": [
      "Computing causality of X (variable 1 of 3)...\n",
      "Computing causality of Y (variable 2 of 3)...\n",
      "Computing causality of Z (variable 3 of 3)...\n"
     ]
    },
    {
     "data": {
      "image/png": "[encoded data removed]",
      "text/plain": [
       "<matplotlib.figure.Figure at 0x120d64a90>"
      ]
     },
     "metadata": {},
     "output_type": "display_data"
    },
    {
     "name": "stdout",
     "output_type": "stream",
     "text": [
      "Computing causality of X (variable 1 of 3)...\n",
      "Computing causality of Y (variable 2 of 3)...\n",
      "Computing causality of Z (variable 3 of 3)...\n"
     ]
    },
    {
     "data": {
      "image/png": "[encoded data removed]",
      "text/plain": [
       "<matplotlib.figure.Figure at 0x11df578d0>"
      ]
     },
     "metadata": {},
     "output_type": "display_data"
    },
    {
     "name": "stdout",
     "output_type": "stream",
     "text": [
      "Computing causality of X (variable 1 of 3)...\n",
      "Computing causality of Y (variable 2 of 3)...\n",
      "Computing causality of Z (variable 3 of 3)...\n"
     ]
    },
    {
     "data": {
      "image/png": "[encoded data removed]",
      "text/plain": [
       "<matplotlib.figure.Figure at 0x1212060b8>"
      ]
     },
     "metadata": {},
     "output_type": "display_data"
    },
    {
     "name": "stdout",
     "output_type": "stream",
     "text": [
      "Computing causality of X (variable 1 of 3)...\n",
      "Computing causality of Y (variable 2 of 3)...\n",
      "Computing causality of Z (variable 3 of 3)...\n"
     ]
    },
    {
     "data": {
      "image/png": "[encoded data removed]",
      "text/plain": [
       "<matplotlib.figure.Figure at 0x11e5ac4e0>"
      ]
     },
     "metadata": {},
     "output_type": "display_data"
    },
    {
     "name": "stdout",
     "output_type": "stream",
     "text": [
      "Computing causality of X (variable 1 of 3)...\n",
      "Computing causality of Y (variable 2 of 3)...\n",
      "Computing causality of Z (variable 3 of 3)...\n"
     ]
    },
    {
     "data": {
      "image/png": "[encoded data removed]",
      "text/plain": [
       "<matplotlib.figure.Figure at 0x121d80dd8>"
      ]
     },
     "metadata": {},
     "output_type": "display_data"
    }
   ],
   "source": [
    "# 2 Layet"
   ]
  },
  {
   "cell_type": "markdown",
   "metadata": {},
   "source": [
    "###  Example 3"
   ]
  },
  {
   "cell_type": "code",
   "execution_count": 206,
   "metadata": {},
   "outputs": [],
   "source": [
    "MAX_LAG = 20\n",
    "ex3 = generate_ex3()\n",
    "ex3 = ex3[[x for x in ex3.columns if x in ['r1', 'r2', 'y1', 'y2']]]"
   ]
  },
  {
   "cell_type": "code",
   "execution_count": 246,
   "metadata": {},
   "outputs": [
    {
     "data": {
      "text/html": [
       "<div>\n",
       "<style scoped>\n",
       "    .dataframe tbody tr th:only-of-type {\n",
       "        vertical-align: middle;\n",
       "    }\n",
       "\n",
       "    .dataframe tbody tr th {\n",
       "        vertical-align: top;\n",
       "    }\n",
       "\n",
       "    .dataframe thead th {\n",
       "        text-align: right;\n",
       "    }\n",
       "</style>\n",
       "<table border=\"1\" class=\"dataframe\">\n",
       "  <thead>\n",
       "    <tr style=\"text-align: right;\">\n",
       "      <th></th>\n",
       "      <th>t</th>\n",
       "      <th>r1</th>\n",
       "      <th>r2</th>\n",
       "      <th>y1</th>\n",
       "      <th>y2</th>\n",
       "      <th>v</th>\n",
       "    </tr>\n",
       "  </thead>\n",
       "  <tbody>\n",
       "    <tr>\n",
       "      <th>0</th>\n",
       "      <td>0.0</td>\n",
       "      <td>1.164954</td>\n",
       "      <td>0.979449</td>\n",
       "      <td>0.000000</td>\n",
       "      <td>0.368391</td>\n",
       "      <td>0.368391</td>\n",
       "    </tr>\n",
       "    <tr>\n",
       "      <th>1</th>\n",
       "      <td>0.1</td>\n",
       "      <td>0.626839</td>\n",
       "      <td>-0.265611</td>\n",
       "      <td>1.426526</td>\n",
       "      <td>1.624750</td>\n",
       "      <td>0.198224</td>\n",
       "    </tr>\n",
       "    <tr>\n",
       "      <th>2</th>\n",
       "      <td>0.2</td>\n",
       "      <td>0.075080</td>\n",
       "      <td>-0.548373</td>\n",
       "      <td>-1.370461</td>\n",
       "      <td>-0.653462</td>\n",
       "      <td>0.023742</td>\n",
       "    </tr>\n",
       "    <tr>\n",
       "      <th>3</th>\n",
       "      <td>0.3</td>\n",
       "      <td>0.351607</td>\n",
       "      <td>-0.096268</td>\n",
       "      <td>-0.917987</td>\n",
       "      <td>-0.099930</td>\n",
       "      <td>0.111188</td>\n",
       "    </tr>\n",
       "    <tr>\n",
       "      <th>4</th>\n",
       "      <td>0.4</td>\n",
       "      <td>-0.696513</td>\n",
       "      <td>-1.380671</td>\n",
       "      <td>-0.642339</td>\n",
       "      <td>-0.388362</td>\n",
       "      <td>-0.220257</td>\n",
       "    </tr>\n",
       "  </tbody>\n",
       "</table>\n",
       "</div>"
      ],
      "text/plain": [
       "     t        r1        r2        y1        y2         v\n",
       "0  0.0  1.164954  0.979449  0.000000  0.368391  0.368391\n",
       "1  0.1  0.626839 -0.265611  1.426526  1.624750  0.198224\n",
       "2  0.2  0.075080 -0.548373 -1.370461 -0.653462  0.023742\n",
       "3  0.3  0.351607 -0.096268 -0.917987 -0.099930  0.111188\n",
       "4  0.4 -0.696513 -1.380671 -0.642339 -0.388362 -0.220257"
      ]
     },
     "execution_count": 246,
     "metadata": {},
     "output_type": "execute_result"
    }
   ],
   "source": [
    "generate_ex3().head()"
   ]
  },
  {
   "cell_type": "code",
   "execution_count": 207,
   "metadata": {},
   "outputs": [
    {
     "name": "stdout",
     "output_type": "stream",
     "text": [
      "Computing causality of r1 (variable 1 of 4)...\n",
      "Computing causality of r2 (variable 2 of 4)...\n",
      "Computing causality of y1 (variable 3 of 4)...\n",
      "Computing causality of y2 (variable 4 of 4)...\n"
     ]
    }
   ],
   "source": [
    "W_ex3 = NN_causality(ex3, lambda_=np.exp(-2), reg_type='h', max_lag=MAX_LAG, batch_size=100)"
   ]
  },
  {
   "cell_type": "code",
   "execution_count": 239,
   "metadata": {},
   "outputs": [
    {
     "data": {
      "image/png": "[encoded data removed]",
      "text/plain": [
       "<matplotlib.figure.Figure at 0x12041b630>"
      ]
     },
     "metadata": {},
     "output_type": "display_data"
    }
   ],
   "source": [
    "causality_heatmap(W_ex3, ex3, 'joint', 2)"
   ]
  },
  {
   "cell_type": "code",
   "execution_count": 240,
   "metadata": {},
   "outputs": [
    {
     "name": "stdout",
     "output_type": "stream",
     "text": [
      "Calculated causes to r1(t)\n"
     ]
    },
    {
     "data": {
      "image/png": "[encoded data removed]",
      "text/plain": [
       "<matplotlib.figure.Figure at 0x1088b99e8>"
      ]
     },
     "metadata": {},
     "output_type": "display_data"
    },
    {
     "name": "stdout",
     "output_type": "stream",
     "text": [
      "Calculated causes to r2(t)\n"
     ]
    },
    {
     "data": {
      "image/png": "[encoded data removed]",
      "text/plain": [
       "<matplotlib.figure.Figure at 0x11d733cf8>"
      ]
     },
     "metadata": {},
     "output_type": "display_data"
    },
    {
     "name": "stdout",
     "output_type": "stream",
     "text": [
      "Calculated causes to y1(t)\n"
     ]
    },
    {
     "data": {
      "image/png": "[encoded data removed]",
      "text/plain": [
       "<matplotlib.figure.Figure at 0x11e3a5c88>"
      ]
     },
     "metadata": {},
     "output_type": "display_data"
    },
    {
     "name": "stdout",
     "output_type": "stream",
     "text": [
      "Calculated causes to y2(t)\n"
     ]
    },
    {
     "data": {
      "image/png": "[encoded data removed]",
      "text/plain": [
       "<matplotlib.figure.Figure at 0x107ecaac8>"
      ]
     },
     "metadata": {},
     "output_type": "display_data"
    }
   ],
   "source": [
    "causality_heatmap(W_ex3, ex3, 'ind', 2)"
   ]
  },
  {
   "cell_type": "markdown",
   "metadata": {},
   "source": [
    "### Test Playground"
   ]
  },
  {
   "cell_type": "code",
   "execution_count": 148,
   "metadata": {
    "scrolled": false
   },
   "outputs": [
    {
     "data": {
      "image/png": "[encoded data removed]",
      "text/plain": [
       "<matplotlib.figure.Figure at 0x11f4c0c18>"
      ]
     },
     "metadata": {},
     "output_type": "display_data"
    }
   ],
   "source": [
    "training_epochs = 2000\n",
    "batch_size = 100\n",
    "lambdas_ = range(-4, 5, 2)\n",
    "\n",
    "for lambda_ in [-2]:\n",
    "    tf.reset_default_graph()\n",
    "\n",
    "    with tf.Session() as sess:\n",
    "        _X, _Y, W1, optimizer = build_FCNN(X[0].shape, np.exp(lambda_), 'h')\n",
    "\n",
    "        tf.global_variables_initializer().run()\n",
    "\n",
    "        for epoch in range(training_epochs):\n",
    "            for batch in range(len(X) // batch_size):\n",
    "                sess.run([optimizer], feed_dict={\n",
    "                    _X: X[(batch * batch_size):((batch + 1) * batch_size)], \n",
    "                    _Y: Y[(batch * batch_size):((batch + 1) * batch_size)][:, np.newaxis]\n",
    "                })\n",
    "        W1_ = sess.run(W1)\n",
    "\n",
    "        var_heatmap(W1_)"
   ]
  }
 ],
 "metadata": {
  "kernelspec": {
   "display_name": "Python 3",
   "language": "python",
   "name": "python3"
  },
  "language_info": {
   "codemirror_mode": {
    "name": "ipython",
    "version": 3
   },
   "file_extension": ".py",
   "mimetype": "text/x-python",
   "name": "python",
   "nbconvert_exporter": "python",
   "pygments_lexer": "ipython3",
   "version": "3.6.1"
  }
 },
 "nbformat": 4,
 "nbformat_minor": 2
}
